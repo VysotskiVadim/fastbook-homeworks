{
 "cells": [
  {
   "cell_type": "code",
   "execution_count": 4,
   "id": "c441f9d2",
   "metadata": {},
   "outputs": [],
   "source": [
    "from fastai.vision.all import *\n",
    "from fastbook import *"
   ]
  },
  {
   "cell_type": "code",
   "execution_count": 42,
   "id": "9fe9eaf4",
   "metadata": {},
   "outputs": [
    {
     "data": {
      "text/plain": [
       "True"
      ]
     },
     "execution_count": 42,
     "metadata": {},
     "output_type": "execute_result"
    }
   ],
   "source": [
    "torch.cuda.is_available()"
   ]
  },
  {
   "cell_type": "markdown",
   "id": "d90dffac",
   "metadata": {},
   "source": [
    "## Image loading"
   ]
  },
  {
   "cell_type": "code",
   "execution_count": 5,
   "id": "dc0ebd15",
   "metadata": {},
   "outputs": [],
   "source": [
    "path = untar_data(URLs.MNIST)"
   ]
  },
  {
   "cell_type": "code",
   "execution_count": 35,
   "id": "6e3efaad",
   "metadata": {},
   "outputs": [
    {
     "data": {
      "text/plain": [
       "torch.Size([2, 784])"
      ]
     },
     "execution_count": 35,
     "metadata": {},
     "output_type": "execute_result"
    }
   ],
   "source": [
    "def loadImages(paths):\n",
    "    images = [tensor(Image.open(p)).view(-1) for p in paths]\n",
    "    return torch.stack(images).float()/255\n",
    "    \n",
    "loadImages([\n",
    "    path/\"training\"/\"5\"/\"0.png\",\n",
    "    path/\"training\"/\"9\"/\"10003.png\"\n",
    "]).shape"
   ]
  },
  {
   "cell_type": "code",
   "execution_count": 40,
   "id": "9cfb2b8a",
   "metadata": {},
   "outputs": [
    {
     "data": {
      "text/plain": [
       "70000"
      ]
     },
     "execution_count": 40,
     "metadata": {},
     "output_type": "execute_result"
    }
   ],
   "source": [
    "import glob\n",
    "\n",
    "def allImages(path):\n",
    "    return glob.glob(str(path) + \"\\**\\*.png\", recursive=True)\n",
    "\n",
    "testImages = allImages(path)\n",
    "assert len(testImages) > 0\n",
    "for image in testImages: assert image.endswith(\".png\") \n",
    "len(testImages)"
   ]
  },
  {
   "cell_type": "code",
   "execution_count": 45,
   "id": "65301070",
   "metadata": {},
   "outputs": [
    {
     "data": {
      "text/plain": [
       "torch.Size([1000, 784])"
      ]
     },
     "execution_count": 45,
     "metadata": {},
     "output_type": "execute_result"
    }
   ],
   "source": [
    "loadImages(allImages(path)[:1000]).shape"
   ]
  },
  {
   "cell_type": "markdown",
   "id": "8d796435",
   "metadata": {},
   "source": [
    "## Model"
   ]
  },
  {
   "cell_type": "code",
   "execution_count": null,
   "id": "19f19b55",
   "metadata": {},
   "outputs": [],
   "source": []
  },
  {
   "cell_type": "markdown",
   "id": "0ecc7ca4",
   "metadata": {},
   "source": [
    "## Learning"
   ]
  },
  {
   "cell_type": "code",
   "execution_count": 9,
   "id": "60e927a3",
   "metadata": {},
   "outputs": [
    {
     "data": {
      "text/plain": [
       "(tensor(0.1367), tensor(0.1000))"
      ]
     },
     "execution_count": 9,
     "metadata": {},
     "output_type": "execute_result"
    }
   ],
   "source": [
    "def mse(targetProbabilities, predictedProbabilities):\n",
    "    return torch.square(targetProbabilities - predictedProbabilities).mean()\n",
    "\n",
    "testTargets = tensor([1, 0, 1])\n",
    "test1 = mse(testTargets, tensor([0.9, 0.2, 0.4]))\n",
    "test2 = mse(testTargets, tensor([0.9, 0.2, 0.5]))\n",
    "test1, test2"
   ]
  },
  {
   "cell_type": "code",
   "execution_count": 10,
   "id": "98754fe4",
   "metadata": {},
   "outputs": [
    {
     "data": {
      "text/plain": [
       "tensor([0.0180, 0.2689, 0.7311, 0.9820])"
      ]
     },
     "execution_count": 10,
     "metadata": {},
     "output_type": "execute_result"
    }
   ],
   "source": [
    "def sigmoid(x): return 1/(1+torch.exp(-x))\n",
    "\n",
    "sigmoid(tensor([-4, -1, 1, 4]))"
   ]
  },
  {
   "cell_type": "code",
   "execution_count": 11,
   "id": "d3bb878f",
   "metadata": {},
   "outputs": [
    {
     "data": {
      "text/plain": [
       "(tensor(0.0841), tensor(0.0249))"
      ]
     },
     "execution_count": 11,
     "metadata": {},
     "output_type": "execute_result"
    }
   ],
   "source": [
    "def mse_loss(targetProbabilities, predictions):\n",
    "    return mse(targetProbabilities, sigmoid(predictions))\n",
    "    \n",
    "test1 = mse_loss(tensor([1, 0, 1]), tensor([10, -3, 0]))\n",
    "test2 = mse_loss(tensor([1, 0, 1]), tensor([10, -3, 1]))\n",
    "test1, test2"
   ]
  },
  {
   "cell_type": "code",
   "execution_count": null,
   "id": "fc14d999",
   "metadata": {},
   "outputs": [],
   "source": []
  }
 ],
 "metadata": {
  "kernelspec": {
   "display_name": "Python [conda env:fastbook] *",
   "language": "python",
   "name": "conda-env-fastbook-py"
  },
  "language_info": {
   "codemirror_mode": {
    "name": "ipython",
    "version": 3
   },
   "file_extension": ".py",
   "mimetype": "text/x-python",
   "name": "python",
   "nbconvert_exporter": "python",
   "pygments_lexer": "ipython3",
   "version": "3.11.9"
  }
 },
 "nbformat": 4,
 "nbformat_minor": 5
}
