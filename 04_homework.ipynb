{
 "cells": [
  {
   "cell_type": "code",
   "execution_count": 1,
   "id": "c441f9d2",
   "metadata": {},
   "outputs": [],
   "source": [
    "from fastai.vision.all import *\n",
    "from fastbook import *"
   ]
  },
  {
   "cell_type": "code",
   "execution_count": 2,
   "id": "9fe9eaf4",
   "metadata": {},
   "outputs": [
    {
     "data": {
      "text/plain": [
       "True"
      ]
     },
     "execution_count": 2,
     "metadata": {},
     "output_type": "execute_result"
    }
   ],
   "source": [
    "torch.cuda.is_available()"
   ]
  },
  {
   "cell_type": "markdown",
   "id": "d90dffac",
   "metadata": {},
   "source": [
    "## Image loading"
   ]
  },
  {
   "cell_type": "code",
   "execution_count": 3,
   "id": "dc0ebd15",
   "metadata": {},
   "outputs": [],
   "source": [
    "path = untar_data(URLs.MNIST)"
   ]
  },
  {
   "cell_type": "code",
   "execution_count": 59,
   "id": "6e3efaad",
   "metadata": {},
   "outputs": [
    {
     "data": {
      "text/plain": [
       "([<PIL.PngImagePlugin.PngImageFile image mode=L size=28x28>,\n",
       "  <PIL.PngImagePlugin.PngImageFile image mode=L size=28x28>,\n",
       "  <PIL.PngImagePlugin.PngImageFile image mode=L size=28x28>],\n",
       " ['5', '9', '4'])"
      ]
     },
     "execution_count": 59,
     "metadata": {},
     "output_type": "execute_result"
    }
   ],
   "source": [
    "def loadImages(paths):\n",
    "    images = [Image.open(p) for p in paths]\n",
    "    classes = [p.parent.name for p in paths]\n",
    "    return (images, classes)\n",
    "    \n",
    "loadImages([\n",
    "    path/\"training\"/\"5\"/\"0.png\",\n",
    "    path/\"training\"/\"9\"/\"10003.png\",\n",
    "    path/\"testing\"/\"4\"/\"1059.png\"\n",
    "])"
   ]
  },
  {
   "cell_type": "code",
   "execution_count": 5,
   "id": "9cfb2b8a",
   "metadata": {},
   "outputs": [
    {
     "data": {
      "text/plain": [
       "(70000, pathlib.WindowsPath)"
      ]
     },
     "execution_count": 5,
     "metadata": {},
     "output_type": "execute_result"
    }
   ],
   "source": [
    "import glob\n",
    "\n",
    "def allImages(path):\n",
    "    return list(path.glob(\"**/*.png\"))\n",
    "\n",
    "testImages = allImages(path)\n",
    "assert len(testImages) > 0\n",
    "for image in testImages: assert image.name.endswith(\".png\") \n",
    "len(testImages), type(testImages[0])"
   ]
  },
  {
   "cell_type": "markdown",
   "id": "8d796435",
   "metadata": {},
   "source": [
    "## Model"
   ]
  },
  {
   "cell_type": "code",
   "execution_count": 75,
   "id": "19f19b55",
   "metadata": {},
   "outputs": [],
   "source": [
    "class Model:\n",
    "    def __init__(self, imageSize, categoryCount):\n",
    "        hiddenSize = imageSize[0] * imageSize[1]\n",
    "        self.w1 = self.__initParams(imageSize[0] * imageSize[1], hiddenSize)\n",
    "        self.b1 = self.__initParams(hiddenSize)\n",
    "        \n",
    "        self.w2 = self.__initParams(hiddenSize, categoryCount)\n",
    "        self.b2 = self.__initParams(categoryCount)\n",
    "        \n",
    "        self.params = [self.w1, self.b1, self.w2, self.b2]\n",
    "        \n",
    "    def applyModel(self, batch):\n",
    "        hiddenLayer1 = F.relu(batch@self.w1 + self.b1)\n",
    "        return hiddenLayer1@self.w2 + self.b2\n",
    "    \n",
    "    def fit(self, lr):\n",
    "        for p in self.params:\n",
    "            p.data -= p.grad.data * lr\n",
    "            p.grad.zero_()\n",
    "    \n",
    "    def __initParams(self, *size):\n",
    "        return (torch.rand(size) * 0.01).requires_grad_()"
   ]
  },
  {
   "cell_type": "markdown",
   "id": "0ecc7ca4",
   "metadata": {},
   "source": [
    "## Learning preparation"
   ]
  },
  {
   "cell_type": "code",
   "execution_count": 7,
   "id": "60e927a3",
   "metadata": {},
   "outputs": [
    {
     "data": {
      "text/plain": [
       "(tensor(0.1367), tensor(0.1000))"
      ]
     },
     "execution_count": 7,
     "metadata": {},
     "output_type": "execute_result"
    }
   ],
   "source": [
    "def mse(targetProbabilities, predictedProbabilities):\n",
    "    return torch.square(targetProbabilities - predictedProbabilities).mean()\n",
    "\n",
    "testTargets = tensor([1, 0, 1])\n",
    "test1 = mse(testTargets, tensor([0.9, 0.2, 0.4]))\n",
    "test2 = mse(testTargets, tensor([0.9, 0.2, 0.5]))\n",
    "test1, test2"
   ]
  },
  {
   "cell_type": "code",
   "execution_count": 8,
   "id": "98754fe4",
   "metadata": {},
   "outputs": [
    {
     "data": {
      "text/plain": [
       "tensor([0.0180, 0.2689, 0.7311, 0.9820])"
      ]
     },
     "execution_count": 8,
     "metadata": {},
     "output_type": "execute_result"
    }
   ],
   "source": [
    "def sigmoid(x): return 1/(1+torch.exp(-x))\n",
    "\n",
    "sigmoid(tensor([-4, -1, 1, 4]))"
   ]
  },
  {
   "cell_type": "code",
   "execution_count": 24,
   "id": "d3bb878f",
   "metadata": {},
   "outputs": [
    {
     "data": {
      "text/plain": [
       "(tensor(0.0841), tensor(0.0249))"
      ]
     },
     "execution_count": 24,
     "metadata": {},
     "output_type": "execute_result"
    }
   ],
   "source": [
    "def mse_loss(targetProbabilities, predictions):\n",
    "    return mse(targetProbabilities, predictions.sigmoid())\n",
    "    \n",
    "test1 = mse_loss(tensor([1, 0, 1]), tensor([10, -3, 0]))\n",
    "test2 = mse_loss(tensor([1, 0, 1]), tensor([10, -3, 1]))\n",
    "test1, test2"
   ]
  },
  {
   "cell_type": "code",
   "execution_count": 10,
   "id": "39db786c",
   "metadata": {},
   "outputs": [
    {
     "data": {
      "text/plain": [
       "tensor(0.6667)"
      ]
     },
     "execution_count": 10,
     "metadata": {},
     "output_type": "execute_result"
    }
   ],
   "source": [
    "def calculateAccuracy(targetPredictions, predictions):\n",
    "    border = 0.5\n",
    "    return ((predictions > border) == (targetPredictions > border)).float().mean()\n",
    "\n",
    "calculateAccuracy(tensor([1, 0, 1]), tensor([0.2, 0, 0.61]))"
   ]
  },
  {
   "cell_type": "code",
   "execution_count": 11,
   "id": "f9178e19",
   "metadata": {},
   "outputs": [],
   "source": [
    "class BatchLoader:\n",
    "    def __init__(self, images, batchSize):\n",
    "        self.images = images.copy()\n",
    "        random.shuffle(self.images)\n",
    "        self.batchSize = batchSize\n",
    "        self.nextBatch = 0 \n",
    "    def nextBatch(self):\n",
    "        batchStartIndex = min(self.batchSize * self.nextBatch, len(self.images))\n",
    "        batchEndIndex = min(startBatchFrom + self.batchSize, len(self.images))\n",
    "        if batchStartIndex == batchEndIndex:\n",
    "            return None\n",
    "        else:\n",
    "            return self.images[batchStartIndex:batchEndIndex]"
   ]
  },
  {
   "cell_type": "code",
   "execution_count": 12,
   "id": "3b469358",
   "metadata": {},
   "outputs": [],
   "source": [
    "class BatchLoader:\n",
    "    def __init__(self, items, batchSize):\n",
    "        self.items = items.copy()\n",
    "        random.shuffle(self.items)\n",
    "        self.batchSize = batchSize\n",
    "        self.nextBatch = 0 \n",
    "    def getNextBatch(self):\n",
    "        batchStartIndex = min(self.batchSize * self.nextBatch, len(self.items))\n",
    "        batchEndIndex = min(batchStartIndex + self.batchSize, len(self.items))\n",
    "        if batchStartIndex == batchEndIndex:\n",
    "            return None\n",
    "        else:\n",
    "            self.nextBatch += 1\n",
    "            return self.items[batchStartIndex:batchEndIndex]\n",
    "       \n",
    "    \n",
    "testItems = [1, 2, 3, 4, 5, 6, 7]\n",
    "testLoader = BatchLoader(testItems, 4)\n",
    "receivedItems = testLoader.getNextBatch() + testLoader.getNextBatch()\n",
    "receivedItems.sort()\n",
    "assert testItems == receivedItems, \"received aren't the same as tests \" + receivedItems\n",
    "assert testLoader.getNextBatch() == None"
   ]
  },
  {
   "cell_type": "code",
   "execution_count": 47,
   "id": "fc14d999",
   "metadata": {},
   "outputs": [],
   "source": [
    "def loadBatch(paths):\n",
    "    images = [tensor(Image.open(p)).view(-1) for p in paths]\n",
    "    classes = [p.parent.name for p in paths]\n",
    "    return (torch.stack(images).float()/255, classes)\n",
    "    \n",
    "testBatchLoader = BatchLoader(allImages(path/\"training\"), 100)\n",
    "trainingImages, trainingClasses = loadBatch(testBatchLoader.getNextBatch())\n",
    "assert len(trainingImages) == len(trainingClasses)"
   ]
  },
  {
   "cell_type": "code",
   "execution_count": 14,
   "id": "82dc2dfd",
   "metadata": {},
   "outputs": [
    {
     "data": {
      "text/plain": [
       "tensor([[1, 0, 0, 0, 0, 0, 0, 0, 0, 0],\n",
       "        [0, 0, 0, 0, 0, 1, 0, 0, 0, 0],\n",
       "        [0, 0, 0, 0, 0, 0, 0, 0, 0, 1]])"
      ]
     },
     "execution_count": 14,
     "metadata": {},
     "output_type": "execute_result"
    }
   ],
   "source": [
    "def numberToPrediction(number):\n",
    "    return [1 if i == number else 0 for i in range(10)]\n",
    "\n",
    "def targetPredictions(classes):\n",
    "    return tensor([numberToPrediction(int(c)) for c in classes])\n",
    "\n",
    "targetPredictions([\"0\", \"5\", \"9\"])"
   ]
  },
  {
   "cell_type": "markdown",
   "id": "bdd3e4de",
   "metadata": {},
   "source": [
    "### The learning loop"
   ]
  },
  {
   "cell_type": "code",
   "execution_count": 62,
   "id": "3f7e403e",
   "metadata": {},
   "outputs": [
    {
     "data": {
      "text/plain": [
       "tensor(0.1000)"
      ]
     },
     "execution_count": 62,
     "metadata": {},
     "output_type": "execute_result"
    }
   ],
   "source": [
    "def validateOneBatch(model, batch):\n",
    "    images, classes = loadBatch(batch)\n",
    "    predictions = model.applyModel(images).sigmoid()\n",
    "    target = targetPredictions(classes)\n",
    "    return calculateAccuracy(target, predictions)\n",
    "\n",
    "validateOneBatch(Model((28,28), 10), allImages(path/\"testing/4\")[:10])"
   ]
  },
  {
   "cell_type": "code",
   "execution_count": 63,
   "id": "b5cc7503",
   "metadata": {},
   "outputs": [
    {
     "data": {
      "text/plain": [
       "0.1"
      ]
     },
     "execution_count": 63,
     "metadata": {},
     "output_type": "execute_result"
    }
   ],
   "source": [
    "def validateEpoach(model, validationSet, batchSize):\n",
    "    batchLoader = BatchLoader(validationSet, batchSize)\n",
    "    batch = batchLoader.getNextBatch()\n",
    "    accuracies = []\n",
    "    while batch != None:\n",
    "        accuracies.append(validateOneBatch(model, batch))\n",
    "        batch = batchLoader.getNextBatch()\n",
    "    return round(torch.stack(accuracies).mean().item(), 4)\n",
    "\n",
    "validateEpoach(Model((28,28), 10), allImages(path/\"testing\"), 10000)"
   ]
  },
  {
   "cell_type": "code",
   "execution_count": 44,
   "id": "54002729",
   "metadata": {},
   "outputs": [
    {
     "name": "stdout",
     "output_type": "stream",
     "text": [
      "Loss: 0.34308311343193054\n"
     ]
    }
   ],
   "source": [
    "def fitOneBatch(model, batch, lr):\n",
    "    traingingImages, trainingClasses = loadBatch(batch)\n",
    "    predictions = model.applyModel(traingingImages).sigmoid()\n",
    "    #print(\"predictions \" + str(predictions))\n",
    "    target = targetPredictions(trainingClasses)\n",
    "    #print(\"target \" + str(target))\n",
    "    loss = mse(target, predictions)\n",
    "    loss.backward()\n",
    "    #print(\"Grad w1 \" + str(model.w1.grad.mean()) + \", b1 \" + str(model.b1.grad.mean()))\n",
    "    model.fit(lr)\n",
    "    print(\"Loss: \" + str(loss.item()))\n",
    "\n",
    "fitOneBatch(Model((28, 28), 10), allImages(path/\"training/4\")[:10], 1.)"
   ]
  },
  {
   "cell_type": "code",
   "execution_count": 68,
   "id": "047fea81",
   "metadata": {},
   "outputs": [
    {
     "name": "stdout",
     "output_type": "stream",
     "text": [
      "Loss: 0.3680417537689209\n",
      "Loss: 0.18425633013248444\n",
      "Loss: 0.12630914151668549\n",
      "Loss: 0.10910668224096298\n",
      "Loss: 0.101543128490448\n",
      "Loss: 0.09696771204471588\n",
      "Accuracy 0.9\n"
     ]
    }
   ],
   "source": [
    "def trainEpoach(model, trainingSet, validationSet,  batchSize, lr):\n",
    "    batchLoader = BatchLoader(trainingSet, batchSize)\n",
    "    batch = batchLoader.getNextBatch()\n",
    "    while batch != None:\n",
    "        fitOneBatch(model, batch, lr)\n",
    "        batch = batchLoader.getNextBatch()\n",
    "    accuracy = validateEpoach(model, validationSet, batchSize)\n",
    "    print(\"Accuracy \" + str(accuracy))\n",
    "    \n",
    "model = Model((28, 28), 10)    \n",
    "trainEpoach(model, allImages(path/\"training\"), allImages(path/\"testing\"), 10000, 1.)"
   ]
  },
  {
   "cell_type": "code",
   "execution_count": null,
   "id": "b39bf018",
   "metadata": {},
   "outputs": [
    {
     "name": "stdout",
     "output_type": "stream",
     "text": [
      "Loss: 0.6824244260787964\n",
      "Loss: 0.12574312090873718\n",
      "Loss: 0.0948319360613823\n",
      "Loss: 0.09444957971572876\n",
      "Loss: 0.09415306895971298\n",
      "Loss: 0.09382064640522003\n",
      "Accuracy 0.9\n",
      "Loss: 0.0937221497297287\n",
      "Loss: 0.09368693083524704\n",
      "Loss: 0.09361375868320465\n",
      "Loss: 0.0935286357998848\n",
      "Loss: 0.09349168837070465\n",
      "Loss: 0.0934002697467804\n",
      "Accuracy 0.9\n",
      "Loss: 0.09346888959407806\n",
      "Loss: 0.09342165291309357\n",
      "Loss: 0.0934908390045166\n",
      "Loss: 0.09345271438360214\n",
      "Loss: 0.09324082732200623\n",
      "Loss: 0.09333856403827667\n",
      "Accuracy 0.9\n"
     ]
    }
   ],
   "source": [
    "model = Model((28, 28), 10)\n",
    "for e in range(1, 6):\n",
    "    trainEpoach(model, allImages(path/\"training\"), allImages(path/\"testing\"), 10000, 1. / e)"
   ]
  },
  {
   "cell_type": "code",
   "execution_count": null,
   "id": "5e08e681",
   "metadata": {},
   "outputs": [],
   "source": []
  }
 ],
 "metadata": {
  "kernelspec": {
   "display_name": "Python [conda env:fastbook] *",
   "language": "python",
   "name": "conda-env-fastbook-py"
  },
  "language_info": {
   "codemirror_mode": {
    "name": "ipython",
    "version": 3
   },
   "file_extension": ".py",
   "mimetype": "text/x-python",
   "name": "python",
   "nbconvert_exporter": "python",
   "pygments_lexer": "ipython3",
   "version": "3.11.9"
  }
 },
 "nbformat": 4,
 "nbformat_minor": 5
}
