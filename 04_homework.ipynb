{
 "cells": [
  {
   "cell_type": "code",
   "execution_count": 1,
   "id": "c441f9d2",
   "metadata": {
    "tags": [
     "export"
    ]
   },
   "outputs": [],
   "source": [
    "from fastai.vision.all import *\n",
    "from fastbook import *\n",
    "import pickle"
   ]
  },
  {
   "cell_type": "code",
   "execution_count": 2,
   "id": "9fe9eaf4",
   "metadata": {},
   "outputs": [
    {
     "data": {
      "text/plain": [
       "True"
      ]
     },
     "execution_count": 2,
     "metadata": {},
     "output_type": "execute_result"
    }
   ],
   "source": [
    "torch.cuda.is_available()"
   ]
  },
  {
   "cell_type": "markdown",
   "id": "d90dffac",
   "metadata": {},
   "source": [
    "## Image loading"
   ]
  },
  {
   "cell_type": "code",
   "execution_count": 3,
   "id": "dc0ebd15",
   "metadata": {},
   "outputs": [],
   "source": [
    "path = untar_data(URLs.MNIST)"
   ]
  },
  {
   "cell_type": "code",
   "execution_count": 4,
   "id": "6e3efaad",
   "metadata": {},
   "outputs": [],
   "source": [
    "def loadImages(paths):\n",
    "    images = [Image.open(p) for p in paths]\n",
    "    classes = [p.parent.name for p in paths]\n",
    "    return (images, classes)"
   ]
  },
  {
   "cell_type": "code",
   "execution_count": 5,
   "id": "b9646439",
   "metadata": {},
   "outputs": [
    {
     "data": {
      "text/plain": [
       "([<PIL.PngImagePlugin.PngImageFile image mode=L size=28x28>,\n",
       "  <PIL.PngImagePlugin.PngImageFile image mode=L size=28x28>,\n",
       "  <PIL.PngImagePlugin.PngImageFile image mode=L size=28x28>],\n",
       " ['5', '9', '4'])"
      ]
     },
     "execution_count": 5,
     "metadata": {},
     "output_type": "execute_result"
    }
   ],
   "source": [
    "loadImages([\n",
    "    path/\"training\"/\"5\"/\"0.png\",\n",
    "    path/\"training\"/\"9\"/\"10003.png\",\n",
    "    path/\"testing\"/\"4\"/\"1059.png\"\n",
    "])"
   ]
  },
  {
   "cell_type": "code",
   "execution_count": 6,
   "id": "9cfb2b8a",
   "metadata": {},
   "outputs": [
    {
     "data": {
      "text/plain": [
       "(70000, pathlib.WindowsPath)"
      ]
     },
     "execution_count": 6,
     "metadata": {},
     "output_type": "execute_result"
    }
   ],
   "source": [
    "import glob\n",
    "\n",
    "def allImages(path):\n",
    "    return list(path.glob(\"**/*.png\"))\n",
    "\n",
    "testImages = allImages(path)\n",
    "assert len(testImages) > 0\n",
    "for image in testImages: assert image.name.endswith(\".png\") \n",
    "len(testImages), type(testImages[0])"
   ]
  },
  {
   "cell_type": "markdown",
   "id": "8d796435",
   "metadata": {},
   "source": [
    "## Model"
   ]
  },
  {
   "cell_type": "code",
   "execution_count": 7,
   "id": "19f19b55",
   "metadata": {
    "tags": [
     "export"
    ]
   },
   "outputs": [],
   "source": [
    "class Model:\n",
    "    def __init__(self, imageSize, categoryCount):\n",
    "        self.learningEnabled = True\n",
    "        hiddenSize = imageSize[0] * imageSize[1]\n",
    "        self.w1 = self.__initParams(imageSize[0] * imageSize[1], hiddenSize)\n",
    "        self.b1 = self.__initParams(hiddenSize)\n",
    "        \n",
    "        self.w2 = self.__initParams(hiddenSize, categoryCount)\n",
    "        self.b2 = self.__initParams(categoryCount)\n",
    "        \n",
    "        self.params = [self.w1, self.b1, self.w2, self.b2]\n",
    "        \n",
    "    def applyModel(self, batch):\n",
    "        hiddenLayer1 = F.relu(batch@self.w1 + self.b1)\n",
    "        return hiddenLayer1@self.w2 + self.b2\n",
    "    \n",
    "    def fit(self, lr):\n",
    "        if not self.learningEnabled:\n",
    "            raise Exception(\"Learning is diabled\")\n",
    "            \n",
    "        for p in self.params:\n",
    "            p.data -= p.grad.data * lr\n",
    "            p.grad.zero_()\n",
    "    \n",
    "    def __initParams(self, *size):\n",
    "        return (torch.rand(size) * 0.01).requires_grad_()\n",
    "    \n",
    "    def disableLearning(self):\n",
    "        self.learningEnabled = False\n",
    "        for p in self.params:\n",
    "            p.requires_grad = False"
   ]
  },
  {
   "cell_type": "markdown",
   "id": "0ecc7ca4",
   "metadata": {},
   "source": [
    "## Learning preparation"
   ]
  },
  {
   "cell_type": "code",
   "execution_count": 8,
   "id": "60e927a3",
   "metadata": {},
   "outputs": [
    {
     "data": {
      "text/plain": [
       "(tensor(0.1367), tensor(0.1000))"
      ]
     },
     "execution_count": 8,
     "metadata": {},
     "output_type": "execute_result"
    }
   ],
   "source": [
    "def mse(targetProbabilities, predictedProbabilities):\n",
    "    return torch.square(targetProbabilities - predictedProbabilities).mean()\n",
    "\n",
    "testTargets = tensor([1, 0, 1])\n",
    "test1 = mse(testTargets, tensor([0.9, 0.2, 0.4]))\n",
    "test2 = mse(testTargets, tensor([0.9, 0.2, 0.5]))\n",
    "test1, test2"
   ]
  },
  {
   "cell_type": "code",
   "execution_count": 9,
   "id": "98754fe4",
   "metadata": {},
   "outputs": [
    {
     "data": {
      "text/plain": [
       "tensor([0.0180, 0.2689, 0.7311, 0.9820])"
      ]
     },
     "execution_count": 9,
     "metadata": {},
     "output_type": "execute_result"
    }
   ],
   "source": [
    "def sigmoid(x): return 1/(1+torch.exp(-x))\n",
    "\n",
    "sigmoid(tensor([-4, -1, 1, 4]))"
   ]
  },
  {
   "cell_type": "code",
   "execution_count": 10,
   "id": "d3bb878f",
   "metadata": {},
   "outputs": [
    {
     "data": {
      "text/plain": [
       "(tensor(0.0841), tensor(0.0249))"
      ]
     },
     "execution_count": 10,
     "metadata": {},
     "output_type": "execute_result"
    }
   ],
   "source": [
    "def mse_loss(targetProbabilities, predictions):\n",
    "    return mse(targetProbabilities, predictions.sigmoid())\n",
    "    \n",
    "test1 = mse_loss(tensor([1, 0, 1]), tensor([10, -3, 0]))\n",
    "test2 = mse_loss(tensor([1, 0, 1]), tensor([10, -3, 1]))\n",
    "test1, test2"
   ]
  },
  {
   "cell_type": "code",
   "execution_count": 11,
   "id": "39db786c",
   "metadata": {},
   "outputs": [
    {
     "data": {
      "text/plain": [
       "tensor(0.6667)"
      ]
     },
     "execution_count": 11,
     "metadata": {},
     "output_type": "execute_result"
    }
   ],
   "source": [
    "def calculateAccuracy(targetPredictions, predictions):\n",
    "    border = 0.5\n",
    "    return ((predictions > border) == (targetPredictions > border)).float().mean()\n",
    "\n",
    "calculateAccuracy(tensor([1, 0, 1]), tensor([0.2, 0, 0.61]))"
   ]
  },
  {
   "cell_type": "code",
   "execution_count": 12,
   "id": "f9178e19",
   "metadata": {},
   "outputs": [],
   "source": [
    "class BatchLoader:\n",
    "    def __init__(self, images, batchSize):\n",
    "        self.images = images.copy()\n",
    "        random.shuffle(self.images)\n",
    "        self.batchSize = batchSize\n",
    "        self.nextBatch = 0 \n",
    "    def nextBatch(self):\n",
    "        batchStartIndex = min(self.batchSize * self.nextBatch, len(self.images))\n",
    "        batchEndIndex = min(startBatchFrom + self.batchSize, len(self.images))\n",
    "        if batchStartIndex == batchEndIndex:\n",
    "            return None\n",
    "        else:\n",
    "            return self.images[batchStartIndex:batchEndIndex]"
   ]
  },
  {
   "cell_type": "code",
   "execution_count": 13,
   "id": "3b469358",
   "metadata": {},
   "outputs": [],
   "source": [
    "class BatchLoader:\n",
    "    def __init__(self, items, batchSize):\n",
    "        self.items = items.copy()\n",
    "        random.shuffle(self.items)\n",
    "        self.batchSize = batchSize\n",
    "        self.nextBatch = 0 \n",
    "    def getNextBatch(self):\n",
    "        batchStartIndex = min(self.batchSize * self.nextBatch, len(self.items))\n",
    "        batchEndIndex = min(batchStartIndex + self.batchSize, len(self.items))\n",
    "        if batchStartIndex == batchEndIndex:\n",
    "            return None\n",
    "        else:\n",
    "            self.nextBatch += 1\n",
    "            return self.items[batchStartIndex:batchEndIndex]\n",
    "       \n",
    "    \n",
    "testItems = [1, 2, 3, 4, 5, 6, 7]\n",
    "testLoader = BatchLoader(testItems, 4)\n",
    "receivedItems = testLoader.getNextBatch() + testLoader.getNextBatch()\n",
    "receivedItems.sort()\n",
    "assert testItems == receivedItems, \"received aren't the same as tests \" + receivedItems\n",
    "assert testLoader.getNextBatch() == None"
   ]
  },
  {
   "cell_type": "code",
   "execution_count": 14,
   "id": "fc14d999",
   "metadata": {},
   "outputs": [],
   "source": [
    "def loadBatch(paths):\n",
    "    images = [tensor(Image.open(p)).view(-1) for p in paths]\n",
    "    classes = [p.parent.name for p in paths]\n",
    "    return (torch.stack(images).float()/255, classes)\n",
    "    \n",
    "testBatchLoader = BatchLoader(allImages(path/\"training\"), 100)\n",
    "trainingImages, trainingClasses = loadBatch(testBatchLoader.getNextBatch())\n",
    "assert len(trainingImages) == len(trainingClasses)"
   ]
  },
  {
   "cell_type": "code",
   "execution_count": 15,
   "id": "82dc2dfd",
   "metadata": {},
   "outputs": [
    {
     "data": {
      "text/plain": [
       "tensor([[1, 0, 0, 0, 0, 0, 0, 0, 0, 0],\n",
       "        [0, 0, 0, 0, 0, 1, 0, 0, 0, 0],\n",
       "        [0, 0, 0, 0, 0, 0, 0, 0, 0, 1]])"
      ]
     },
     "execution_count": 15,
     "metadata": {},
     "output_type": "execute_result"
    }
   ],
   "source": [
    "def numberToPrediction(number):\n",
    "    return [1 if i == number else 0 for i in range(10)]\n",
    "\n",
    "def targetPredictions(classes):\n",
    "    return tensor([numberToPrediction(int(c)) for c in classes])\n",
    "\n",
    "targetPredictions([\"0\", \"5\", \"9\"])"
   ]
  },
  {
   "cell_type": "markdown",
   "id": "bdd3e4de",
   "metadata": {},
   "source": [
    "### The learning loop"
   ]
  },
  {
   "cell_type": "code",
   "execution_count": 16,
   "id": "3f7e403e",
   "metadata": {},
   "outputs": [
    {
     "data": {
      "text/plain": [
       "tensor(0.1000)"
      ]
     },
     "execution_count": 16,
     "metadata": {},
     "output_type": "execute_result"
    }
   ],
   "source": [
    "def validateOneBatch(model, batch):\n",
    "    images, classes = loadBatch(batch)\n",
    "    predictions = model.applyModel(images).sigmoid()\n",
    "    target = targetPredictions(classes)\n",
    "    return calculateAccuracy(target, predictions)\n",
    "\n",
    "validateOneBatch(Model((28,28), 10), allImages(path/\"testing/4\")[:10])"
   ]
  },
  {
   "cell_type": "code",
   "execution_count": 17,
   "id": "b5cc7503",
   "metadata": {},
   "outputs": [
    {
     "data": {
      "text/plain": [
       "0.1"
      ]
     },
     "execution_count": 17,
     "metadata": {},
     "output_type": "execute_result"
    }
   ],
   "source": [
    "def validateEpoach(model, validationSet, batchSize):\n",
    "    batchLoader = BatchLoader(validationSet, batchSize)\n",
    "    batch = batchLoader.getNextBatch()\n",
    "    accuracies = []\n",
    "    while batch != None:\n",
    "        accuracies.append(validateOneBatch(model, batch))\n",
    "        batch = batchLoader.getNextBatch()\n",
    "    return round(torch.stack(accuracies).mean().item(), 4)\n",
    "\n",
    "validateEpoach(Model((28,28), 10), allImages(path/\"testing\"), 10000)"
   ]
  },
  {
   "cell_type": "code",
   "execution_count": 18,
   "id": "54002729",
   "metadata": {},
   "outputs": [
    {
     "name": "stdout",
     "output_type": "stream",
     "text": [
      "Loss: 0.6319382786750793\n"
     ]
    }
   ],
   "source": [
    "def fitOneBatch(model, batch, lr):\n",
    "    traingingImages, trainingClasses = loadBatch(batch)\n",
    "    predictions = model.applyModel(traingingImages).sigmoid()\n",
    "    #print(\"predictions \" + str(predictions))\n",
    "    target = targetPredictions(trainingClasses)\n",
    "    #print(\"target \" + str(target))\n",
    "    loss = mse(target, predictions)\n",
    "    loss.backward()\n",
    "    #print(\"Grad w1 \" + str(model.w1.grad.mean()) + \", b1 \" + str(model.b1.grad.mean()))\n",
    "    model.fit(lr)\n",
    "    print(\"Loss: \" + str(loss.item()))\n",
    "\n",
    "fitOneBatch(Model((28, 28), 10), allImages(path/\"training/4\")[:10], 1.)"
   ]
  },
  {
   "cell_type": "code",
   "execution_count": 19,
   "id": "047fea81",
   "metadata": {},
   "outputs": [
    {
     "name": "stdout",
     "output_type": "stream",
     "text": [
      "Loss: 0.6852139830589294\n",
      "Loss: 0.13082094490528107\n",
      "Loss: 0.09483341127634048\n",
      "Loss: 0.09448976814746857\n",
      "Loss: 0.09408964961767197\n",
      "Loss: 0.09388739615678787\n",
      "Accuracy 0.9\n"
     ]
    }
   ],
   "source": [
    "def trainEpoach(model, trainingSet, validationSet,  batchSize, lr):\n",
    "    batchLoader = BatchLoader(trainingSet, batchSize)\n",
    "    batch = batchLoader.getNextBatch()\n",
    "    while batch != None:\n",
    "        fitOneBatch(model, batch, lr)\n",
    "        batch = batchLoader.getNextBatch()\n",
    "    accuracy = validateEpoach(model, validationSet, batchSize)\n",
    "    print(\"Accuracy \" + str(accuracy))\n",
    "    \n",
    "model = Model((28, 28), 10)    \n",
    "trainEpoach(model, allImages(path/\"training\"), allImages(path/\"testing\"), 10000, 1.)"
   ]
  },
  {
   "cell_type": "code",
   "execution_count": 20,
   "id": "b39bf018",
   "metadata": {},
   "outputs": [
    {
     "name": "stdout",
     "output_type": "stream",
     "text": [
      "Loss: 0.6899998188018799\n",
      "Loss: 0.13176092505455017\n",
      "Loss: 0.0945010706782341\n",
      "Loss: 0.0940602570772171\n",
      "Loss: 0.09405284374952316\n",
      "Loss: 0.09376131743192673\n",
      "Accuracy 0.9\n",
      "Loss: 0.0935547724366188\n",
      "Loss: 0.09361087530851364\n",
      "Loss: 0.09345470368862152\n",
      "Loss: 0.09352568536996841\n",
      "Loss: 0.093464195728302\n",
      "Loss: 0.09346101433038712\n",
      "Accuracy 0.9\n",
      "Loss: 0.09352021664381027\n",
      "Loss: 0.0933317169547081\n",
      "Loss: 0.09341220557689667\n",
      "Loss: 0.09332188218832016\n",
      "Loss: 0.09328248351812363\n",
      "Loss: 0.09333501756191254\n",
      "Accuracy 0.9\n"
     ]
    }
   ],
   "source": [
    "model = Model((28, 28), 10)\n",
    "for e in range(1, 4):\n",
    "    trainEpoach(model, allImages(path/\"training\"), allImages(path/\"testing\"), 10000, 1. / e)"
   ]
  },
  {
   "cell_type": "code",
   "execution_count": 30,
   "id": "5e08e681",
   "metadata": {},
   "outputs": [],
   "source": [
    "model.disableLearning()\n",
    "with open('model.pkl', 'wb') as output:\n",
    "    pickle.dump(model, output, pickle.HIGHEST_PROTOCOL)"
   ]
  },
  {
   "cell_type": "code",
   "execution_count": 31,
   "id": "abeee455",
   "metadata": {
    "tags": [
     "export"
    ]
   },
   "outputs": [],
   "source": [
    "def loadModel(path):\n",
    "    with open(path, 'r') as file:\n",
    "        return pickle.load(file)"
   ]
  },
  {
   "cell_type": "code",
   "execution_count": 32,
   "id": "2a0a1edd",
   "metadata": {},
   "outputs": [
    {
     "ename": "UnicodeDecodeError",
     "evalue": "'charmap' codec can't decode byte 0x81 in position 33: character maps to <undefined>",
     "output_type": "error",
     "traceback": [
      "\u001b[1;31m---------------------------------------------------------------------------\u001b[0m",
      "\u001b[1;31mUnicodeDecodeError\u001b[0m                        Traceback (most recent call last)",
      "Cell \u001b[1;32mIn[32], line 1\u001b[0m\n\u001b[1;32m----> 1\u001b[0m testModel \u001b[38;5;241m=\u001b[39m loadModel(\u001b[38;5;124m'\u001b[39m\u001b[38;5;124mmodel.pkl\u001b[39m\u001b[38;5;124m'\u001b[39m)\n",
      "Cell \u001b[1;32mIn[31], line 3\u001b[0m, in \u001b[0;36mloadModel\u001b[1;34m(path)\u001b[0m\n\u001b[0;32m      1\u001b[0m \u001b[38;5;28;01mdef\u001b[39;00m \u001b[38;5;21mloadModel\u001b[39m(path):\n\u001b[0;32m      2\u001b[0m     \u001b[38;5;28;01mwith\u001b[39;00m \u001b[38;5;28mopen\u001b[39m(path, \u001b[38;5;124m'\u001b[39m\u001b[38;5;124mr\u001b[39m\u001b[38;5;124m'\u001b[39m) \u001b[38;5;28;01mas\u001b[39;00m file:\n\u001b[1;32m----> 3\u001b[0m         \u001b[38;5;28;01mreturn\u001b[39;00m pickle\u001b[38;5;241m.\u001b[39mload(file)\n",
      "File \u001b[1;32m~\\scoop\\apps\\miniconda3\\current\\envs\\fastbook\\Lib\\encodings\\cp1252.py:23\u001b[0m, in \u001b[0;36mIncrementalDecoder.decode\u001b[1;34m(self, input, final)\u001b[0m\n\u001b[0;32m     22\u001b[0m \u001b[38;5;28;01mdef\u001b[39;00m \u001b[38;5;21mdecode\u001b[39m(\u001b[38;5;28mself\u001b[39m, \u001b[38;5;28minput\u001b[39m, final\u001b[38;5;241m=\u001b[39m\u001b[38;5;28;01mFalse\u001b[39;00m):\n\u001b[1;32m---> 23\u001b[0m     \u001b[38;5;28;01mreturn\u001b[39;00m codecs\u001b[38;5;241m.\u001b[39mcharmap_decode(\u001b[38;5;28minput\u001b[39m,\u001b[38;5;28mself\u001b[39m\u001b[38;5;241m.\u001b[39merrors,decoding_table)[\u001b[38;5;241m0\u001b[39m]\n",
      "\u001b[1;31mUnicodeDecodeError\u001b[0m: 'charmap' codec can't decode byte 0x81 in position 33: character maps to <undefined>"
     ]
    }
   ],
   "source": [
    "testModel = loadModel('model.pkl')"
   ]
  },
  {
   "cell_type": "code",
   "execution_count": 25,
   "id": "4ccf3f56",
   "metadata": {},
   "outputs": [
    {
     "name": "stdout",
     "output_type": "stream",
     "text": [
      "Exported 2 functions to model.py\n"
     ]
    }
   ],
   "source": [
    "import nbformat\n",
    "import ipynbname\n",
    "\n",
    "notebook_path = ipynbname.path() \n",
    "output_file = \"model.py\"\n",
    "\n",
    "# Load the notebook\n",
    "with open(notebook_path, \"r\", encoding=\"utf-8\") as f:\n",
    "    notebook = nbformat.read(f, as_version=4)\n",
    "\n",
    "# Extract code from cells with the \"export\" tag\n",
    "exported_code = []\n",
    "for cell in notebook.cells:\n",
    "    if cell.cell_type == \"code\" and \"tags\" in cell.metadata:\n",
    "        if \"export\" in cell.metadata.tags:\n",
    "            exported_code.append(cell.source)\n",
    "\n",
    "# Write the extracted code to a .py file\n",
    "with open(output_file, \"w\", encoding=\"utf-8\") as f:\n",
    "    f.write(\"\\n\\n\".join(exported_code))\n",
    "\n",
    "print(f\"Exported {len(exported_code)} functions to {output_file}\")\n"
   ]
  },
  {
   "cell_type": "code",
   "execution_count": null,
   "id": "b2ce98db",
   "metadata": {},
   "outputs": [],
   "source": []
  }
 ],
 "metadata": {
  "celltoolbar": "Tags",
  "kernelspec": {
   "display_name": "Python [conda env:fastbook] *",
   "language": "python",
   "name": "conda-env-fastbook-py"
  },
  "language_info": {
   "codemirror_mode": {
    "name": "ipython",
    "version": 3
   },
   "file_extension": ".py",
   "mimetype": "text/x-python",
   "name": "python",
   "nbconvert_exporter": "python",
   "pygments_lexer": "ipython3",
   "version": "3.11.9"
  }
 },
 "nbformat": 4,
 "nbformat_minor": 5
}
