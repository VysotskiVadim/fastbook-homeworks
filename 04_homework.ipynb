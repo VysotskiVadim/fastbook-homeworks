{
 "cells": [
  {
   "cell_type": "code",
   "execution_count": 1,
   "id": "c441f9d2",
   "metadata": {},
   "outputs": [],
   "source": [
    "from fastai.vision.all import *\n",
    "from fastbook import *"
   ]
  },
  {
   "cell_type": "code",
   "execution_count": 2,
   "id": "9fe9eaf4",
   "metadata": {},
   "outputs": [
    {
     "data": {
      "text/plain": [
       "True"
      ]
     },
     "execution_count": 2,
     "metadata": {},
     "output_type": "execute_result"
    }
   ],
   "source": [
    "torch.cuda.is_available()"
   ]
  },
  {
   "cell_type": "markdown",
   "id": "d90dffac",
   "metadata": {},
   "source": [
    "## Image loading"
   ]
  },
  {
   "cell_type": "code",
   "execution_count": 3,
   "id": "dc0ebd15",
   "metadata": {},
   "outputs": [],
   "source": [
    "path = untar_data(URLs.MNIST)"
   ]
  },
  {
   "cell_type": "code",
   "execution_count": 4,
   "id": "6e3efaad",
   "metadata": {},
   "outputs": [
    {
     "data": {
      "text/plain": [
       "([<PIL.PngImagePlugin.PngImageFile image mode=L size=28x28>,\n",
       "  <PIL.PngImagePlugin.PngImageFile image mode=L size=28x28>],\n",
       " ['5', '9'])"
      ]
     },
     "execution_count": 4,
     "metadata": {},
     "output_type": "execute_result"
    }
   ],
   "source": [
    "def loadImages(paths):\n",
    "    images = [Image.open(p) for p in paths]\n",
    "    classes = [p.parent.name for p in paths]\n",
    "    return (images, classes)\n",
    "    \n",
    "loadImages([\n",
    "    path/\"training\"/\"5\"/\"0.png\",\n",
    "    path/\"training\"/\"9\"/\"10003.png\"\n",
    "])"
   ]
  },
  {
   "cell_type": "code",
   "execution_count": 5,
   "id": "9cfb2b8a",
   "metadata": {},
   "outputs": [
    {
     "data": {
      "text/plain": [
       "(70000, pathlib.WindowsPath)"
      ]
     },
     "execution_count": 5,
     "metadata": {},
     "output_type": "execute_result"
    }
   ],
   "source": [
    "import glob\n",
    "\n",
    "def allImages(path):\n",
    "    return list(path.glob(\"**/*.png\"))\n",
    "\n",
    "testImages = allImages(path)\n",
    "assert len(testImages) > 0\n",
    "for image in testImages: assert image.name.endswith(\".png\") \n",
    "len(testImages), type(testImages[0])"
   ]
  },
  {
   "cell_type": "markdown",
   "id": "8d796435",
   "metadata": {},
   "source": [
    "## Model"
   ]
  },
  {
   "cell_type": "code",
   "execution_count": 41,
   "id": "19f19b55",
   "metadata": {},
   "outputs": [],
   "source": [
    "class Model:\n",
    "    def __init__(self, imageSize, categoryCount):\n",
    "        self.w1 = self.__initParams(imageSize[0] * imageSize[1], categoryCount)\n",
    "        self.b1 = self.__initParams(categoryCount)\n",
    "        self.params = [self.w1, self.b1]\n",
    "        \n",
    "    def applyModel(self, batch):\n",
    "        return batch@self.w1 + self.b1\n",
    "    \n",
    "    def fit(self, lr):\n",
    "        for p in self.params:\n",
    "            p.data -= p.grad.data * lr\n",
    "            p.grad.zero_()\n",
    "    \n",
    "    def __initParams(self, *size):\n",
    "        return (torch.rand(size) * 0.01).requires_grad_()"
   ]
  },
  {
   "cell_type": "markdown",
   "id": "0ecc7ca4",
   "metadata": {},
   "source": [
    "## Learning preparation"
   ]
  },
  {
   "cell_type": "code",
   "execution_count": 7,
   "id": "60e927a3",
   "metadata": {},
   "outputs": [
    {
     "data": {
      "text/plain": [
       "(tensor(0.1367), tensor(0.1000))"
      ]
     },
     "execution_count": 7,
     "metadata": {},
     "output_type": "execute_result"
    }
   ],
   "source": [
    "def mse(targetProbabilities, predictedProbabilities):\n",
    "    return torch.square(targetProbabilities - predictedProbabilities).mean()\n",
    "\n",
    "testTargets = tensor([1, 0, 1])\n",
    "test1 = mse(testTargets, tensor([0.9, 0.2, 0.4]))\n",
    "test2 = mse(testTargets, tensor([0.9, 0.2, 0.5]))\n",
    "test1, test2"
   ]
  },
  {
   "cell_type": "code",
   "execution_count": 8,
   "id": "98754fe4",
   "metadata": {},
   "outputs": [
    {
     "data": {
      "text/plain": [
       "tensor([0.0180, 0.2689, 0.7311, 0.9820])"
      ]
     },
     "execution_count": 8,
     "metadata": {},
     "output_type": "execute_result"
    }
   ],
   "source": [
    "def sigmoid(x): return 1/(1+torch.exp(-x))\n",
    "\n",
    "sigmoid(tensor([-4, -1, 1, 4]))"
   ]
  },
  {
   "cell_type": "code",
   "execution_count": 24,
   "id": "d3bb878f",
   "metadata": {},
   "outputs": [
    {
     "data": {
      "text/plain": [
       "(tensor(0.0841), tensor(0.0249))"
      ]
     },
     "execution_count": 24,
     "metadata": {},
     "output_type": "execute_result"
    }
   ],
   "source": [
    "def mse_loss(targetProbabilities, predictions):\n",
    "    return mse(targetProbabilities, predictions.sigmoid())\n",
    "    \n",
    "test1 = mse_loss(tensor([1, 0, 1]), tensor([10, -3, 0]))\n",
    "test2 = mse_loss(tensor([1, 0, 1]), tensor([10, -3, 1]))\n",
    "test1, test2"
   ]
  },
  {
   "cell_type": "code",
   "execution_count": 10,
   "id": "39db786c",
   "metadata": {},
   "outputs": [
    {
     "data": {
      "text/plain": [
       "tensor(0.6667)"
      ]
     },
     "execution_count": 10,
     "metadata": {},
     "output_type": "execute_result"
    }
   ],
   "source": [
    "def calculateAccuracy(targetPredictions, predictions):\n",
    "    border = 0.5\n",
    "    return ((predictions > border) == (targetPredictions > border)).float().mean()\n",
    "\n",
    "calculateAccuracy(tensor([1, 0, 1]), tensor([0.2, 0, 0.61]))"
   ]
  },
  {
   "cell_type": "code",
   "execution_count": 11,
   "id": "f9178e19",
   "metadata": {},
   "outputs": [],
   "source": [
    "class BatchLoader:\n",
    "    def __init__(self, images, batchSize):\n",
    "        self.images = images.copy()\n",
    "        random.shuffle(self.images)\n",
    "        self.batchSize = batchSize\n",
    "        self.nextBatch = 0 \n",
    "    def nextBatch(self):\n",
    "        batchStartIndex = min(self.batchSize * self.nextBatch, len(self.images))\n",
    "        batchEndIndex = min(startBatchFrom + self.batchSize, len(self.images))\n",
    "        if batchStartIndex == batchEndIndex:\n",
    "            return None\n",
    "        else:\n",
    "            return self.images[batchStartIndex:batchEndIndex]"
   ]
  },
  {
   "cell_type": "code",
   "execution_count": 12,
   "id": "3b469358",
   "metadata": {},
   "outputs": [],
   "source": [
    "class BatchLoader:\n",
    "    def __init__(self, items, batchSize):\n",
    "        self.items = items.copy()\n",
    "        random.shuffle(self.items)\n",
    "        self.batchSize = batchSize\n",
    "        self.nextBatch = 0 \n",
    "    def getNextBatch(self):\n",
    "        batchStartIndex = min(self.batchSize * self.nextBatch, len(self.items))\n",
    "        batchEndIndex = min(batchStartIndex + self.batchSize, len(self.items))\n",
    "        if batchStartIndex == batchEndIndex:\n",
    "            return None\n",
    "        else:\n",
    "            self.nextBatch += 1\n",
    "            return self.items[batchStartIndex:batchEndIndex]\n",
    "       \n",
    "    \n",
    "testItems = [1, 2, 3, 4, 5, 6, 7]\n",
    "testLoader = BatchLoader(testItems, 4)\n",
    "receivedItems = testLoader.getNextBatch() + testLoader.getNextBatch()\n",
    "receivedItems.sort()\n",
    "assert testItems == receivedItems, \"received aren't the same as tests \" + receivedItems\n",
    "assert testLoader.getNextBatch() == None"
   ]
  },
  {
   "cell_type": "code",
   "execution_count": 13,
   "id": "fc14d999",
   "metadata": {},
   "outputs": [],
   "source": [
    "def loadTrainingBatch(paths):\n",
    "    images = [tensor(Image.open(p)).view(-1) for p in paths]\n",
    "    classes = [p.parent.name for p in paths]\n",
    "    return (torch.stack(images).float()/255, classes)\n",
    "    \n",
    "testBatchLoader = BatchLoader(allImages(path/\"training\"), 100)\n",
    "trainingImages, trainingClasses = loadTrainingBatch(testBatchLoader.getNextBatch())\n",
    "assert len(trainingImages) == len(trainingClasses)"
   ]
  },
  {
   "cell_type": "code",
   "execution_count": 14,
   "id": "82dc2dfd",
   "metadata": {},
   "outputs": [
    {
     "data": {
      "text/plain": [
       "tensor([[1, 0, 0, 0, 0, 0, 0, 0, 0, 0],\n",
       "        [0, 0, 0, 0, 0, 1, 0, 0, 0, 0],\n",
       "        [0, 0, 0, 0, 0, 0, 0, 0, 0, 1]])"
      ]
     },
     "execution_count": 14,
     "metadata": {},
     "output_type": "execute_result"
    }
   ],
   "source": [
    "def numberToPrediction(number):\n",
    "    return [1 if i == number else 0 for i in range(10)]\n",
    "\n",
    "def targetPredictions(classes):\n",
    "    return tensor([numberToPrediction(int(c)) for c in classes])\n",
    "\n",
    "targetPredictions([\"0\", \"5\", \"9\"])"
   ]
  },
  {
   "cell_type": "markdown",
   "id": "bdd3e4de",
   "metadata": {},
   "source": [
    "### The learning loop"
   ]
  },
  {
   "cell_type": "code",
   "execution_count": 44,
   "id": "54002729",
   "metadata": {},
   "outputs": [
    {
     "name": "stdout",
     "output_type": "stream",
     "text": [
      "Loss: 0.34308311343193054\n"
     ]
    }
   ],
   "source": [
    "def fitOneBatch(model, batch, lr):\n",
    "    traingingImages, trainingClasses = loadTrainingBatch(batch)\n",
    "    predictions = model.applyModel(traingingImages).sigmoid()\n",
    "    #print(\"predictions \" + str(predictions))\n",
    "    target = targetPredictions(trainingClasses)\n",
    "    #print(\"target \" + str(target))\n",
    "    loss = mse(target, predictions)\n",
    "    loss.backward()\n",
    "    #print(\"Grad w1 \" + str(model.w1.grad.mean()) + \", b1 \" + str(model.b1.grad.mean()))\n",
    "    model.fit(lr)\n",
    "    print(\"Loss: \" + str(loss.item()))\n",
    "\n",
    "fitOneBatch(Model((28, 28), 10), allImages(path/\"training/4\")[:10], 1.)"
   ]
  },
  {
   "cell_type": "code",
   "execution_count": null,
   "id": "b5cc7503",
   "metadata": {},
   "outputs": [],
   "source": []
  },
  {
   "cell_type": "code",
   "execution_count": 45,
   "id": "047fea81",
   "metadata": {},
   "outputs": [
    {
     "name": "stdout",
     "output_type": "stream",
     "text": [
      "Loss: 0.369189977645874\n",
      "Loss: 0.1836828738451004\n",
      "Loss: 0.12597247958183289\n",
      "Loss: 0.10906694084405899\n",
      "Loss: 0.10072337836027145\n",
      "Loss: 0.09722267836332321\n",
      "Loss: 0.09455832839012146\n",
      "Loss: 0.09125091880559921\n",
      "Loss: 0.09021744132041931\n",
      "Loss: 0.08863161504268646\n",
      "Loss: 0.08747846633195877\n",
      "Loss: 0.08688682317733765\n",
      "Loss: 0.08556760102510452\n",
      "Loss: 0.08429328352212906\n",
      "Loss: 0.08357089757919312\n",
      "Loss: 0.08214773237705231\n",
      "Loss: 0.08227250725030899\n",
      "Loss: 0.08167801797389984\n",
      "Loss: 0.08065709471702576\n",
      "Loss: 0.08071321249008179\n",
      "Loss: 0.07919751852750778\n",
      "Loss: 0.07808215916156769\n",
      "Loss: 0.07798117399215698\n",
      "Loss: 0.07700179517269135\n",
      "Loss: 0.07608827948570251\n",
      "Loss: 0.07637220621109009\n",
      "Loss: 0.07458819448947906\n",
      "Loss: 0.07513655722141266\n",
      "Loss: 0.07385546714067459\n",
      "Loss: 0.07269249111413956\n",
      "Loss: 0.0724659338593483\n",
      "Loss: 0.07284849882125854\n",
      "Loss: 0.07156054675579071\n",
      "Loss: 0.07213768362998962\n",
      "Loss: 0.0707300528883934\n",
      "Loss: 0.07025444507598877\n",
      "Loss: 0.0695558488368988\n",
      "Loss: 0.06947510689496994\n",
      "Loss: 0.06806720793247223\n",
      "Loss: 0.06724575161933899\n",
      "Loss: 0.06674803793430328\n",
      "Loss: 0.06674452871084213\n",
      "Loss: 0.06629657000303268\n",
      "Loss: 0.06606075167655945\n",
      "Loss: 0.06567484140396118\n",
      "Loss: 0.06367045640945435\n",
      "Loss: 0.06594700366258621\n",
      "Loss: 0.06454621255397797\n",
      "Loss: 0.06499738991260529\n",
      "Loss: 0.06313057988882065\n",
      "Loss: 0.06367774307727814\n",
      "Loss: 0.06388544291257858\n",
      "Loss: 0.0631924644112587\n",
      "Loss: 0.06277360022068024\n",
      "Loss: 0.062151744961738586\n",
      "Loss: 0.062285035848617554\n",
      "Loss: 0.06064014136791229\n",
      "Loss: 0.06038307026028633\n",
      "Loss: 0.06117504835128784\n",
      "Loss: 0.059609245508909225\n"
     ]
    }
   ],
   "source": [
    "def performEpoach(model, trainingSet, validationSet, batchSize, lr):\n",
    "    batchLoader = BatchLoader(trainingSet, batchSize)\n",
    "    batch = batchLoader.getNextBatch()\n",
    "    while batch != None:\n",
    "        fitOneBatch(model, batch, lr)\n",
    "        batch = batchLoader.getNextBatch()\n",
    "    \n",
    "model = Model((28, 28), 10)    \n",
    "performEpoach(model, allImages(path/\"training\"), 1000, 1.)"
   ]
  },
  {
   "cell_type": "code",
   "execution_count": null,
   "id": "b39bf018",
   "metadata": {},
   "outputs": [],
   "source": []
  }
 ],
 "metadata": {
  "kernelspec": {
   "display_name": "Python [conda env:fastbook] *",
   "language": "python",
   "name": "conda-env-fastbook-py"
  },
  "language_info": {
   "codemirror_mode": {
    "name": "ipython",
    "version": 3
   },
   "file_extension": ".py",
   "mimetype": "text/x-python",
   "name": "python",
   "nbconvert_exporter": "python",
   "pygments_lexer": "ipython3",
   "version": "3.11.9"
  }
 },
 "nbformat": 4,
 "nbformat_minor": 5
}
