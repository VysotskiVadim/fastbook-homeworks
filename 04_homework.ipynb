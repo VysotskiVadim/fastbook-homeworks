{
 "cells": [
  {
   "cell_type": "code",
   "execution_count": 1,
   "id": "c441f9d2",
   "metadata": {},
   "outputs": [],
   "source": [
    "from fastai.vision.all import *\n",
    "from fastbook import *"
   ]
  },
  {
   "cell_type": "markdown",
   "id": "d90dffac",
   "metadata": {},
   "source": [
    "## Image loading"
   ]
  },
  {
   "cell_type": "code",
   "execution_count": 20,
   "id": "dc0ebd15",
   "metadata": {},
   "outputs": [],
   "source": [
    "path = untar_data(URLs.MNIST)"
   ]
  },
  {
   "cell_type": "code",
   "execution_count": 23,
   "id": "308466c2",
   "metadata": {
    "scrolled": true
   },
   "outputs": [
    {
     "data": {
      "text/plain": [
       "((#2) [Path('C:/Users/Vadzim/.fastai/data/mnist_png/testing'),Path('C:/Users/Vadzim/.fastai/data/mnist_png/training')],\n",
       " (#5421) [Path('C:/Users/Vadzim/.fastai/data/mnist_png/training/5/0.png'),Path('C:/Users/Vadzim/.fastai/data/mnist_png/training/5/100.png'),Path('C:/Users/Vadzim/.fastai/data/mnist_png/training/5/10008.png'),Path('C:/Users/Vadzim/.fastai/data/mnist_png/training/5/10015.png'),Path('C:/Users/Vadzim/.fastai/data/mnist_png/training/5/10030.png'),Path('C:/Users/Vadzim/.fastai/data/mnist_png/training/5/10035.png'),Path('C:/Users/Vadzim/.fastai/data/mnist_png/training/5/10049.png'),Path('C:/Users/Vadzim/.fastai/data/mnist_png/training/5/10051.png'),Path('C:/Users/Vadzim/.fastai/data/mnist_png/training/5/10056.png'),Path('C:/Users/Vadzim/.fastai/data/mnist_png/training/5/10062.png')...])"
      ]
     },
     "execution_count": 23,
     "metadata": {},
     "output_type": "execute_result"
    }
   ],
   "source": [
    "path.ls(), (path/\"training\"/\"5\").ls()"
   ]
  },
  {
   "cell_type": "code",
   "execution_count": 36,
   "id": "28d3e85c",
   "metadata": {},
   "outputs": [],
   "source": [
    "?map"
   ]
  },
  {
   "cell_type": "code",
   "execution_count": 35,
   "id": "6e3efaad",
   "metadata": {},
   "outputs": [
    {
     "data": {
      "text/plain": [
       "map"
      ]
     },
     "execution_count": 35,
     "metadata": {},
     "output_type": "execute_result"
    }
   ],
   "source": [
    "def loadImages(paths):\n",
    "    images = map(\n",
    "        lambda p: tensor(Image.open(p)).view(-1),\n",
    "        paths\n",
    "    )\n",
    "    return images\n",
    "    torch.stack(images).float()/255\n",
    "    \n",
    "type(loadImages([\n",
    "    path/\"training\"/\"5\"/\"0.png\",\n",
    "    path/\"training\"/\"9\"/\"0.png\"\n",
    "]))"
   ]
  },
  {
   "cell_type": "markdown",
   "id": "8d796435",
   "metadata": {},
   "source": [
    "## Model"
   ]
  },
  {
   "cell_type": "markdown",
   "id": "0ecc7ca4",
   "metadata": {},
   "source": [
    "## Learning"
   ]
  },
  {
   "cell_type": "code",
   "execution_count": 10,
   "id": "60e927a3",
   "metadata": {},
   "outputs": [
    {
     "data": {
      "text/plain": [
       "(tensor(0.1367), tensor(0.1000))"
      ]
     },
     "execution_count": 10,
     "metadata": {},
     "output_type": "execute_result"
    }
   ],
   "source": [
    "def mse(targetProbabilities, predictedProbabilities):\n",
    "    return torch.square(targetProbabilities - predictedProbabilities).mean()\n",
    "\n",
    "testTargets = tensor([1, 0, 1])\n",
    "test1 = mse(testTargets, tensor([0.9, 0.2, 0.4]))\n",
    "test2 = mse(testTargets, tensor([0.9, 0.2, 0.5]))\n",
    "test1, test2"
   ]
  },
  {
   "cell_type": "code",
   "execution_count": 17,
   "id": "98754fe4",
   "metadata": {},
   "outputs": [
    {
     "data": {
      "text/plain": [
       "tensor([0.0180, 0.2689, 0.7311, 0.9820])"
      ]
     },
     "execution_count": 17,
     "metadata": {},
     "output_type": "execute_result"
    }
   ],
   "source": [
    "def sigmoid(x): return 1/(1+torch.exp(-x))\n",
    "\n",
    "sigmoid(tensor([-4, -1, 1, 4]))"
   ]
  },
  {
   "cell_type": "code",
   "execution_count": 19,
   "id": "d3bb878f",
   "metadata": {},
   "outputs": [
    {
     "data": {
      "text/plain": [
       "(tensor(0.0841), tensor(0.0249))"
      ]
     },
     "execution_count": 19,
     "metadata": {},
     "output_type": "execute_result"
    }
   ],
   "source": [
    "def mse_loss(targetProbabilities, predictions):\n",
    "    return mse(targetProbabilities, sigmoid(predictions))\n",
    "    \n",
    "test1 = mse_loss(tensor([1, 0, 1]), tensor([10, -3, 0]))\n",
    "test2 = mse_loss(tensor([1, 0, 1]), tensor([10, -3, 1]))\n",
    "test1, test2"
   ]
  },
  {
   "cell_type": "code",
   "execution_count": null,
   "id": "fc14d999",
   "metadata": {},
   "outputs": [],
   "source": []
  }
 ],
 "metadata": {
  "kernelspec": {
   "display_name": "Python [conda env:fastbook] *",
   "language": "python",
   "name": "conda-env-fastbook-py"
  },
  "language_info": {
   "codemirror_mode": {
    "name": "ipython",
    "version": 3
   },
   "file_extension": ".py",
   "mimetype": "text/x-python",
   "name": "python",
   "nbconvert_exporter": "python",
   "pygments_lexer": "ipython3",
   "version": "3.11.9"
  }
 },
 "nbformat": 4,
 "nbformat_minor": 5
}
